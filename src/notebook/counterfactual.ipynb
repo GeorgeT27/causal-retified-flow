{
 "cells": [
  {
   "cell_type": "code",
   "execution_count": 1,
   "id": "28cc52ee",
   "metadata": {},
   "outputs": [
    {
     "name": "stderr",
     "output_type": "stream",
     "text": [
      "/venv/causal-gen/lib/python3.8/site-packages/tqdm/auto.py:21: TqdmWarning: IProgress not found. Please update jupyter and ipywidgets. See https://ipywidgets.readthedocs.io/en/stable/user_install.html\n",
      "  from .autonotebook import tqdm as notebook_tqdm\n",
      "/venv/causal-gen/lib/python3.8/site-packages/scipy/__init__.py:146: UserWarning: A NumPy version >=1.16.5 and <1.23.0 is required for this version of SciPy (detected version 1.24.3\n",
      "  warnings.warn(f\"A NumPy version >={np_minversion} and <{np_maxversion}\"\n"
     ]
    }
   ],
   "source": [
    "from typing import Dict, Any, IO,Optional,Tuple, Union,List\n",
    "import os\n",
    "import gc\n",
    "import sys\n",
    "import copy\n",
    "import torch\n",
    "import torch.nn as nn\n",
    "from torch import Tensor\n",
    "from torch.utils.data import DataLoader\n",
    "sys.path.append('/workspace/causal-retified-flow/src')\n",
    "sys.path.append('/workspace/causal-retified-flow/src/pgm')\n",
    "import multiprocessing\n",
    "import numpy as np\n",
    "from tqdm import tqdm\n",
    "\n",
    "from pgm.train_pgm import setup_dataloaders,preprocess\n",
    "from pgm.flow_pgm import MorphoMNISTPGM\n",
    "\n",
    "class Hparams:\n",
    "    def update(self, dict):\n",
    "        for k, v in dict.items():\n",
    "            setattr(self, k, v)"
   ]
  },
  {
   "cell_type": "code",
   "execution_count": 2,
   "id": "7f2a7bf1",
   "metadata": {},
   "outputs": [
    {
     "name": "stdout",
     "output_type": "stream",
     "text": [
      "\n",
      "Loading predictor checkpoint: /workspace/checkpoints/t_i_d/aux_60k/checkpoint.pt\n"
     ]
    },
    {
     "data": {
      "text/plain": [
       "<All keys matched successfully>"
      ]
     },
     "execution_count": 2,
     "metadata": {},
     "output_type": "execute_result"
    }
   ],
   "source": [
    "predictor_path = '/workspace/checkpoints/t_i_d/aux_60k/checkpoint.pt'\n",
    "print(f'\\nLoading predictor checkpoint: {predictor_path}')\n",
    "predictor_checkpoint = torch.load(predictor_path)\n",
    "predictor_args = Hparams()\n",
    "predictor_args.update(predictor_checkpoint['hparams'])\n",
    "assert predictor_args.dataset == 'morphomnist'\n",
    "predictor = MorphoMNISTPGM(predictor_args).cuda()\n",
    "predictor.load_state_dict(predictor_checkpoint['ema_model_state_dict'])"
   ]
  },
  {
   "cell_type": "code",
   "execution_count": 3,
   "id": "da7ab73d",
   "metadata": {},
   "outputs": [
    {
     "name": "stdout",
     "output_type": "stream",
     "text": [
      "\n",
      "Loading PGM checkpoint: /workspace/checkpoints/t_i_d/pgm_60k/checkpoint.pt\n"
     ]
    },
    {
     "data": {
      "text/plain": [
       "<All keys matched successfully>"
      ]
     },
     "execution_count": 3,
     "metadata": {},
     "output_type": "execute_result"
    }
   ],
   "source": [
    "pgm_path = '/workspace/checkpoints/t_i_d/pgm_60k/checkpoint.pt'\n",
    "print(f'\\nLoading PGM checkpoint: {pgm_path}')\n",
    "pgm_checkpoint = torch.load(pgm_path)\n",
    "pgm_args = Hparams()\n",
    "pgm_args.update(pgm_checkpoint['hparams'])\n",
    "assert pgm_args.dataset == 'morphomnist'\n",
    "pgm = MorphoMNISTPGM(pgm_args).cuda()\n",
    "pgm.load_state_dict(pgm_checkpoint['ema_model_state_dict'])"
   ]
  },
  {
   "cell_type": "code",
   "execution_count": 4,
   "id": "8abd520d",
   "metadata": {},
   "outputs": [
    {
     "name": "stdout",
     "output_type": "stream",
     "text": [
      "True 536408501\n"
     ]
    }
   ],
   "source": [
    "import os\n",
    "model_name = 'flow_matching_exp'\n",
    "fm_path = '/workspace/checkpoints/t_i_d/'+model_name+'/checkpoint.pt'\n",
    "print(os.path.exists(fm_path), os.path.getsize(fm_path) if os.path.exists(fm_path) else 'File not found')"
   ]
  },
  {
   "cell_type": "code",
   "execution_count": 5,
   "id": "8be20abe",
   "metadata": {},
   "outputs": [
    {
     "name": "stdout",
     "output_type": "stream",
     "text": [
      "\n",
      "Loading flow matching checkpoint: /workspace/checkpoints/t_i_d/flow_matching_exp/checkpoint.pt\n"
     ]
    }
   ],
   "source": [
    "def load_fm(fm_path):\n",
    "    print(f'\\nLoading flow matching checkpoint: {fm_path}')\n",
    "    fm_checkpoint = torch.load(fm_path)\n",
    "    fm_args = Hparams()\n",
    "    fm_args.update(fm_checkpoint['hparams'])\n",
    "    fm_args.data_dir = '../datasets/'\n",
    "\n",
    "    # init model\n",
    "    assert fm_args.hps == 'morphomnist'\n",
    "    from flow_model import FlowUnet\n",
    "    fm=FlowUnet(fm_args).cuda()\n",
    "    fm.load_state_dict(fm_checkpoint['ema_model_state_dict'])\n",
    "    return fm, fm_args\n",
    "\n",
    "model_name = 'flow_matching_exp'\n",
    "fm_path = '/workspace/checkpoints/t_i_d/'+model_name+'/checkpoint.pt'\n",
    "fm, fm_args = load_fm(fm_path)"
   ]
  },
  {
   "cell_type": "code",
   "execution_count": 8,
   "id": "a4dfd3b0",
   "metadata": {},
   "outputs": [
    {
     "name": "stdout",
     "output_type": "stream",
     "text": [
      "\n",
      "Loading flow matching checkpoint: /workspace/checkpoints/t_i_d/flow_matching_exp/checkpoint.pt\n",
      "thickness normalization: [-1,1]\n",
      "max: 6.255515, min: 0.87598526\n",
      "intensity normalization: [-1,1]\n",
      "max: 254.90317, min: 66.601204\n",
      "#samples: 60000\n",
      "\n",
      "thickness normalization: [-1,1]\n",
      "max: 6.255515, min: 0.87598526\n",
      "intensity normalization: [-1,1]\n",
      "max: 254.90317, min: 66.601204\n",
      "#samples: 10000\n",
      "\n",
      "thickness normalization: [-1,1]\n",
      "max: 6.255515, min: 0.87598526\n",
      "intensity normalization: [-1,1]\n",
      "max: 254.90317, min: 66.601204\n",
      "#samples: 10000\n",
      "\n",
      "do(thickness), seed 0:\n",
      "thickness normalization: [-1,1]\n",
      "max: 6.255515, min: 0.87598526\n",
      "intensity normalization: [-1,1]\n",
      "max: 254.90317, min: 66.601204\n",
      "#samples: 60000\n",
      "\n",
      "thickness normalization: [-1,1]\n",
      "max: 6.255515, min: 0.87598526\n",
      "intensity normalization: [-1,1]\n",
      "max: 254.90317, min: 66.601204\n",
      "#samples: 10000\n",
      "\n",
      "thickness normalization: [-1,1]\n",
      "max: 6.255515, min: 0.87598526\n",
      "intensity normalization: [-1,1]\n",
      "max: 254.90317, min: 66.601204\n",
      "#samples: 10000\n",
      "\n",
      "do(thickness), seed 0:\n"
     ]
    },
    {
     "name": "stderr",
     "output_type": "stream",
     "text": [
      "100%|██████████| 313/313 [04:31<00:00,  1.15it/s]\n",
      "\n"
     ]
    },
    {
     "name": "stdout",
     "output_type": "stream",
     "text": [
      "predicted digit acc: 0.9952\n"
     ]
    },
    {
     "name": "stderr",
     "output_type": "stream",
     "text": [
      "100%|##########| 10000/10000 [01:59<00:00, 83.99img/s]\n",
      "\n"
     ]
    },
    {
     "name": "stdout",
     "output_type": "stream",
     "text": [
      "predicted thickness mae: 0.5486329793930054\n",
      "measured thickness mae: 0.6961509858999434\n",
      "predicted intensity mae: 48.66401290893555\n",
      "measured intensity mae: 49.01017761230469\n",
      "do(intensity), seed 0:\n"
     ]
    },
    {
     "name": "stderr",
     "output_type": "stream",
     "text": [
      "100%|██████████| 313/313 [04:31<00:00,  1.15it/s]\n",
      "\n"
     ]
    },
    {
     "name": "stdout",
     "output_type": "stream",
     "text": [
      "predicted digit acc: 0.9956\n"
     ]
    },
    {
     "name": "stderr",
     "output_type": "stream",
     "text": [
      "100%|##########| 10000/10000 [01:59<00:00, 83.45img/s]\n",
      "\n"
     ]
    },
    {
     "name": "stdout",
     "output_type": "stream",
     "text": [
      "predicted thickness mae: 0.16441011428833008\n",
      "measured thickness mae: 0.13351028761266215\n",
      "predicted intensity mae: 54.53118133544922\n",
      "measured intensity mae: 54.982948303222656\n",
      "do(digit), seed 0:\n"
     ]
    },
    {
     "name": "stderr",
     "output_type": "stream",
     "text": [
      "100%|██████████| 313/313 [04:32<00:00,  1.15it/s]\n",
      "\n"
     ]
    },
    {
     "name": "stdout",
     "output_type": "stream",
     "text": [
      "predicted digit acc: 0.7922\n"
     ]
    },
    {
     "name": "stderr",
     "output_type": "stream",
     "text": [
      "100%|##########| 10000/10000 [01:59<00:00, 83.87img/s]\n",
      "\n"
     ]
    },
    {
     "name": "stdout",
     "output_type": "stream",
     "text": [
      "predicted thickness mae: 0.22352023422718048\n",
      "measured thickness mae: 0.3193408750182205\n",
      "predicted intensity mae: 33.7902717590332\n",
      "measured intensity mae: 35.34321975708008\n",
      "do(random), seed 0:\n"
     ]
    },
    {
     "name": "stderr",
     "output_type": "stream",
     "text": [
      "100%|██████████| 313/313 [04:32<00:00,  1.15it/s]\n",
      "\n"
     ]
    },
    {
     "name": "stdout",
     "output_type": "stream",
     "text": [
      "predicted digit acc: 0.8825\n"
     ]
    },
    {
     "name": "stderr",
     "output_type": "stream",
     "text": [
      "100%|##########| 10000/10000 [01:59<00:00, 83.78img/s]\n",
      "\n"
     ]
    },
    {
     "name": "stdout",
     "output_type": "stream",
     "text": [
      "predicted thickness mae: 0.4435769021511078\n",
      "measured thickness mae: 0.535134611286748\n",
      "predicted intensity mae: 53.72004318237305\n",
      "measured intensity mae: 54.78707504272461\n"
     ]
    }
   ],
   "source": [
    "from morphomnist.morpho import ImageMorphology\n",
    "import pdb\n",
    "# Refer to https://github.com/dccastro/Morpho-MNIST for details on Morpho-MNIST\n",
    "from flow_model import RectifiedFlow\n",
    "def get_intensity(x, threshold=0.5):\n",
    "    x = x.detach().cpu().numpy()[:, 0]\n",
    "    x_min, x_max = x.min(axis=(1, 2), keepdims=True), x.max(axis=(1, 2), keepdims=True)\n",
    "    mask = (x >= x_min + (x_max - x_min) * threshold)\n",
    "    return np.array([np.median(i[m]) for i, m in zip(x, mask)])\n",
    "\n",
    "def img_thickness(img, threshold, scale):\n",
    "    return ImageMorphology(np.asarray(img), threshold, scale).mean_thickness\n",
    "\n",
    "def unpack(args):\n",
    "    return img_thickness(*args)\n",
    "\n",
    "def get_thickness(x, threshold=0.5, scale=4, pool=None, chunksize=100):\n",
    "    imgs = x.detach().cpu().numpy()[:, 0]\n",
    "    args = ((img, threshold, scale) for img in imgs)\n",
    "    if pool is None:\n",
    "        gen = map(unpack, args)\n",
    "    else:\n",
    "        gen = pool.imap(unpack, args, chunksize=chunksize)\n",
    "    results = tqdm(gen, total=len(imgs), unit='img', ascii=True)\n",
    "    return list(results)\n",
    "\n",
    "def fm_preprocess(pa: Dict[str, Tensor], input_res: int = 28) -> Tensor:\n",
    "    # concatenate parents and expand to input resolution for vae input\n",
    "    for k,v in pa.items():\n",
    "        pa[k]=pa[k].unsqueeze(-1)\n",
    "    return pa\n",
    "\n",
    "    \n",
    "@torch.no_grad()\n",
    "def cf_epoch(\n",
    "    vae: nn.Module, \n",
    "    pgm: nn.Module, \n",
    "    predictor: nn.Module, \n",
    "    dataloaders: Dict[str, DataLoader],\n",
    "    do_pa: Optional[str] = None, \n",
    "    te_cf: bool = False\n",
    ") -> Tuple[Tensor, Tensor, Tensor]:\n",
    "    vae.eval()\n",
    "    pgm.eval()\n",
    "    predictor.eval()\n",
    "    dag_vars = list(pgm.variables.keys())\n",
    "    preds = {k: [] for k in dag_vars}\n",
    "    targets = {k: [] for k in dag_vars}\n",
    "    x_counterfactuals = []\n",
    "    train_set = copy.deepcopy(dataloaders['train'].dataset.samples)\n",
    "    loader = tqdm(enumerate(dataloaders['test']), total=len(\n",
    "        dataloaders['test']), mininterval=0.1)\n",
    "\n",
    "    for _, batch in loader:\n",
    "        bs = batch['x'].shape[0]\n",
    "        batch = preprocess(batch)\n",
    "        pa = {k: v for k, v in batch.items() if k != 'x'}\n",
    "        # randomly intervene on a single parent do(pa_k), pa_k ~ p(pa_k)\n",
    "        do = {}\n",
    "        if do_pa is not None:\n",
    "            idx = torch.randperm(train_set[do_pa].shape[0])\n",
    "            do[do_pa] = train_set[do_pa].clone()[idx][:bs]\n",
    "        else: # random interventions\n",
    "            while not do:\n",
    "                for k in dag_vars:\n",
    "                    if torch.rand(1) > 0.5:  # coin flip to intervene on pa_k\n",
    "                        idx = torch.randperm(train_set[k].shape[0])\n",
    "                        do[k] = train_set[k].clone()[idx][:bs]\n",
    "        do = preprocess(do)\n",
    "        # infer counterfactual parents\n",
    "        cf_pa = pgm.counterfactual(obs=pa, intervention=do, num_particles=1)\n",
    "        # abduct exogenous noise u\n",
    "        u = fm.abduct(batch['x'], parents=pa, args=fm_args)\n",
    "        # prediction\n",
    "        cf_x = fm.sample_with_cf(rf=RectifiedFlow(), x_0=u, args=fm_args, cf_parents=cf_pa)\n",
    "        cfs = {'x': torch.clamp(cf_x, min=-1, max=1)}\n",
    "        cfs.update(cf_pa)\n",
    "        x_counterfactuals.extend(cfs['x'])\n",
    "        # predict labels of inferred counterfactuals\n",
    "        preds_cf = predictor.predict(**cfs)\n",
    "        for k, v in preds_cf.items():\n",
    "            preds[k].extend(v)\n",
    "        # targets are the interventions and/or counterfactual parents\n",
    "        for k in targets.keys():\n",
    "            t_k = do[k].clone() if k in do.keys() else cfs[k].clone()\n",
    "            targets[k].extend(t_k)\n",
    "    for k, v in targets.items():\n",
    "        targets[k] = torch.stack(v).squeeze().cpu()\n",
    "        preds[k] = torch.stack(preds[k]).squeeze().cpu()\n",
    "    x_counterfactuals = torch.stack(x_counterfactuals).cpu()\n",
    "    return targets, preds, x_counterfactuals\n",
    "\n",
    "\n",
    "def eval_cf_loop(\n",
    "    vae: nn.Module,\n",
    "    pgm: nn.Module,\n",
    "    predictor: nn.Module,\n",
    "    dataloaders: Dict[str, DataLoader],\n",
    "    file: IO[str],\n",
    "    total_effect: bool = False,\n",
    "    seeds: List[int] = [0],\n",
    "):\n",
    "    for do_pa in ['thickness', 'intensity', 'digit', None]:  # \"None\" is for random interventions\n",
    "        acc_runs = []\n",
    "        mae_runs = {\n",
    "            'thickness': {'predicted': [], 'measured': []},\n",
    "            'intensity': {'predicted': [], 'measured': []}\n",
    "        }\n",
    "\n",
    "        for seed in seeds:\n",
    "            print(f'do({(do_pa if do_pa is not None else \"random\")}), seed {seed}:')\n",
    "            targets, preds, x_cfs = cf_epoch(vae, pgm, predictor, dataloaders, do_pa, total_effect)\n",
    "            acc = (targets['digit'].argmax(-1).numpy() == preds['digit'].argmax(-1).numpy()).mean()\n",
    "            print(f'predicted digit acc:', acc)\n",
    "            # evaluate inferred cfs using true causal mechanisms\n",
    "            measured = {}\n",
    "            measured['intensity'] = torch.tensor(get_intensity((x_cfs + 1.0) * 127.5))\n",
    "            with multiprocessing.Pool() as pool:\n",
    "                measured['thickness'] = torch.tensor(get_thickness((x_cfs + 1.0) * 127.5, pool=pool, chunksize=250))\n",
    "\n",
    "            mae = {'thickness': {}, 'intensity': {}}\n",
    "            for k in ['thickness', 'intensity']:\n",
    "                min_max = dataloaders['train'].dataset.min_max[k]\n",
    "                _min, _max = min_max[0], min_max[1]\n",
    "                preds_k = ((preds[k] + 1) / 2) * (_max - _min) + _min\n",
    "                targets_k = ((targets[k] + 1) / 2) * (_max - _min) + _min\n",
    "                mae[k]['predicted'] = (targets_k - preds_k).abs().mean().item()\n",
    "                mae[k]['measured'] = (targets_k - measured[k]).abs().mean().item()\n",
    "                print(f'predicted {k} mae:', mae[k]['predicted'])\n",
    "                print(f'measured {k} mae:', mae[k]['measured'])\n",
    "\n",
    "            acc_runs.append(acc)\n",
    "            for k in ['thickness', 'intensity']:\n",
    "                mae_runs[k]['predicted'].append(mae[k]['predicted'])\n",
    "                mae_runs[k]['measured'].append(mae[k]['measured'])\n",
    "\n",
    "            file.write(\n",
    "                f'\\ndo({(do_pa if do_pa is not None else \"random\")}) | digit acc: {acc}, ' +\n",
    "                f'thickness mae (predicted): {mae[\"thickness\"][\"predicted\"]}, ' +\n",
    "                f'thickness mae (measured): {mae[\"thickness\"][\"measured\"]}, ' +\n",
    "                f'intensity mae (predicted): {mae[\"intensity\"][\"predicted\"]}, ' +\n",
    "                f'intensity mae (measured): {mae[\"intensity\"][\"measured\"]} | seed {seed}'\n",
    "            )\n",
    "            file.flush()\n",
    "            gc.collect()\n",
    "\n",
    "        v = 'Total effect: '+ str(total_effect)\n",
    "        file.write(\n",
    "            f'\\n{v}\\n' +\n",
    "            f'digit acc | mean: {np.array(acc_runs).mean()} - std: {np.array(acc_runs).std()}\\n' +\n",
    "            f'thickness mae (predicted) | mean: {np.array(mae_runs[\"thickness\"][\"predicted\"]).mean()} - std: {np.array(mae_runs[\"thickness\"][\"predicted\"]).std()}\\n' +\n",
    "            f'thickness mae (measured) | mean: {np.array(mae_runs[\"thickness\"][\"measured\"]).mean()} - std: {np.array(mae_runs[\"thickness\"][\"measured\"]).std()}\\n' +\n",
    "            f'intensity mae (predicted) | mean: {np.array(mae_runs[\"intensity\"][\"predicted\"]).mean()} - std: {np.array(mae_runs[\"intensity\"][\"predicted\"]).std()}\\n' +\n",
    "            f'intensity mae (measured) | mean: {np.array(mae_runs[\"intensity\"][\"measured\"]).mean()} - std: {np.array(mae_runs[\"intensity\"][\"measured\"]).std()}\\n'\n",
    "        )\n",
    "        file.flush()\n",
    "    return\n",
    "\n",
    "for model_name in [\n",
    "'flow_matching_exp'\n",
    "]:\n",
    "    file = open(f'./eval_{model_name}.txt', 'a')\n",
    "    fm_path = '/workspace/checkpoints/t_i_d/'+model_name+'/checkpoint.pt'\n",
    "    fm, fm_args = load_fm(fm_path)\n",
    "    assert pgm_args.dataset == 'morphomnist'\n",
    "    pgm_args.data_dir = '/workspace/causal-gen/datasets/morphomnist'\n",
    "    pgm_args.bs = 32\n",
    "    dataloaders = setup_dataloaders(pgm_args)\n",
    "    eval_cf_loop(fm, pgm, predictor, dataloaders, file)\n",
    "    file.close()"
   ]
  },
  {
   "cell_type": "code",
   "execution_count": 39,
   "id": "bc59e806",
   "metadata": {},
   "outputs": [],
   "source": [
    "import matplotlib.pyplot as plt\n",
    "\n",
    "def visualize_counterfactuals(original_images, cf_images, original_labels, cf_labels, num_samples=8):\n",
    "    \"\"\"\n",
    "    Visualize original images vs their counterfactuals\n",
    "    \"\"\"\n",
    "    fig, axes = plt.subplots(2, num_samples, figsize=(15, 4))\n",
    "    \n",
    "    for i in range(min(num_samples, len(original_images))):\n",
    "        # Original image\n",
    "        orig_img = original_images[i].squeeze().numpy()\n",
    "        axes[0, i].imshow(orig_img, cmap='gray',vmin=0, vmax=255)\n",
    "        \n",
    "        # Convert tensors to scalars for formatting\n",
    "        orig_digit = original_labels[\"digit\"][i].argmax().item()\n",
    "        orig_thick = original_labels[\"thickness\"][i].item()\n",
    "        orig_int = original_labels[\"intensity\"][i].item()\n",
    "        \n",
    "        axes[0, i].set_title(f'Original\\nDigit: {orig_digit:.0f}\\nThick: {orig_thick:.2f}\\nInt: {orig_int:.2f}')\n",
    "        axes[0, i].axis('off')\n",
    "        \n",
    "        # Counterfactual image\n",
    "        cf_img = cf_images[i].squeeze().numpy()\n",
    "        axes[1, i].imshow(cf_img, cmap='gray',vmin=0, vmax=255)\n",
    "        \n",
    "        # Convert tensors to scalars for formatting\n",
    "        cf_digit = cf_labels[\"digit\"][i].argmax().item()\n",
    "        cf_thick = cf_labels[\"thickness\"][i].item()\n",
    "        cf_int = cf_labels[\"intensity\"][i].item()\n",
    "        \n",
    "        axes[1, i].set_title(f'Counterfactual\\nDigit: {cf_digit:.0f}\\nThick: {cf_thick:.2f}\\nInt: {cf_int:.2f}')\n",
    "        axes[1, i].axis('off')\n",
    "    \n",
    "    plt.tight_layout()\n",
    "    plt.show()\n",
    "\n",
    "# Test visualization with a small batch\n",
    "def test_cf_visualization(fm, pgm, predictor, dataloaders, num_samples=8):\n",
    "    \"\"\"\n",
    "    Generate and visualize counterfactuals for a small test batch\n",
    "    \"\"\"\n",
    "    fm.eval()\n",
    "    pgm.eval()\n",
    "    predictor.eval()\n",
    "    \n",
    "    # Get a small batch from test set\n",
    "    test_batch = next(iter(dataloaders['test']))\n",
    "    test_batch = {k: v[:num_samples] for k, v in test_batch.items()}  # Take only num_samples\n",
    "    batch = preprocess(test_batch)\n",
    "    \n",
    "    # Original data\n",
    "    original_x = batch['x']\n",
    "    original_pa = {k: v for k, v in batch.items() if k != 'x'}\n",
    "    original_preds = predictor.predict(x=original_x, **original_pa)\n",
    "    \n",
    "    # Create intervention (let's try increasing thickness)\n",
    "    train_set = dataloaders['train'].dataset.samples\n",
    "    do = {}\n",
    "    # Intervene on thickness - set to high values\n",
    "    high_thickness_indices = torch.argsort(train_set['thickness'], descending=True)[:num_samples]\n",
    "    do['thickness'] = train_set['thickness'][high_thickness_indices]\n",
    "    do = preprocess(do)\n",
    "\n",
    "    \n",
    "    # Generate counterfactuals\n",
    "    cf_pa = pgm.counterfactual(obs=original_pa, intervention=do, num_particles=1)\n",
    "    u = fm.abduct(original_x, parents=original_pa, args=fm_args)\n",
    "    cf_x = fm.sample_with_cf(rf=RectifiedFlow(), x_0=u, args=fm_args, cf_parents=cf_pa)\n",
    "    cf_x = torch.clamp(cf_x, min=-1, max=1)\n",
    "    \n",
    "    # Predict counterfactual labels\n",
    "    cf_preds = predictor.predict(x=cf_x, **cf_pa)\n",
    "    \n",
    "    # Convert to display format (0-255)\n",
    "    orig_display = ((original_x + 1) * 127.5).cpu()\n",
    "    cf_display = ((cf_x + 1) * 127.5).cpu()\n",
    "    \n",
    "    # Denormalize labels for display\n",
    "    def denormalize_labels(labels, dataloaders):\n",
    "        denorm = {}\n",
    "        for k, v in labels.items():\n",
    "            if k in ['thickness', 'intensity']:\n",
    "                min_max = dataloaders['train'].dataset.min_max[k]\n",
    "                _min, _max = min_max[0], min_max[1]\n",
    "                denorm[k] = ((v + 1) / 2) * (_max - _min) + _min\n",
    "            else:\n",
    "                denorm[k] = v\n",
    "        return denorm\n",
    "    \n",
    "    orig_labels_denorm = denormalize_labels(original_preds, dataloaders)\n",
    "    cf_labels_denorm = denormalize_labels(cf_preds, dataloaders)\n",
    "    \n",
    "    # Visualize\n",
    "    visualize_counterfactuals(orig_display, cf_display, orig_labels_denorm, cf_labels_denorm, num_samples)\n",
    "    \n",
    "    return orig_display, cf_display, orig_labels_denorm, cf_labels_denorm"
   ]
  },
  {
   "cell_type": "code",
   "execution_count": 43,
   "id": "12716f0e",
   "metadata": {},
   "outputs": [],
   "source": [
    "def test_cf_visualization_intensity(fm, pgm, predictor, dataloaders, intensity_targets=[70, 80, 90]):\n",
    "    \"\"\"\n",
    "    Generate and visualize counterfactuals for a small test batch with specific intensity interventions.\n",
    "    \"\"\"\n",
    "    fm.eval()\n",
    "    pgm.eval()\n",
    "    predictor.eval()\n",
    "    num_samples = len(intensity_targets)\n",
    "    \n",
    "    # Get a small batch from test set\n",
    "    test_batch = next(iter(dataloaders['test']))\n",
    "    test_batch = {k: v[:num_samples] for k, v in test_batch.items()}  # Take only num_samples\n",
    "    batch = preprocess(test_batch)\n",
    "    \n",
    "    # Original data\n",
    "    original_x = batch['x']\n",
    "    original_pa = {k: v for k, v in batch.items() if k != 'x'}\n",
    "    original_preds = predictor.predict(x=original_x, **original_pa)\n",
    "    \n",
    "    # Prepare intensity intervention (normalize to [-1, 1])\n",
    "    intensity_min, intensity_max = dataloaders['train'].dataset.min_max['intensity']\n",
    "    intensity_norm = [2 * (t - intensity_min) / (intensity_max - intensity_min) - 1 for t in intensity_targets]\n",
    "    print(intensity_norm)\n",
    "    do = {'intensity': torch.tensor(intensity_norm, dtype=original_x.dtype, device=original_x.device)}\n",
    "    do = preprocess(do)\n",
    "    \n",
    "    # Generate counterfactuals\n",
    "    cf_pa = pgm.counterfactual(obs=original_pa, intervention=do, num_particles=1)\n",
    "    u = fm.abduct(original_x, parents=original_pa, args=fm_args)\n",
    "    cf_x = fm.sample_with_cf(rf=RectifiedFlow(), x_0=u, args=fm_args, cf_parents=cf_pa)\n",
    "    cf_x = torch.clamp(cf_x, min=-1, max=1)\n",
    "    \n",
    "    # Predict counterfactual labels\n",
    "    cf_preds = predictor.predict(x=cf_x, **cf_pa)\n",
    "    \n",
    "    # Convert to display format (0-255)\n",
    "    orig_display = ((original_x + 1) * 127.5).cpu()\n",
    "    cf_display = ((cf_x + 1) * 127.5).cpu()\n",
    "    \n",
    "    # Denormalize labels for display\n",
    "    def denormalize_labels(labels, dataloaders):\n",
    "        denorm = {}\n",
    "        for k, v in labels.items():\n",
    "            if k in ['thickness', 'intensity']:\n",
    "                min_max = dataloaders['train'].dataset.min_max[k]\n",
    "                _min, _max = min_max[0], min_max[1]\n",
    "                denorm[k] = ((v + 1) / 2) * (_max - _min) + _min\n",
    "            else:\n",
    "                denorm[k] = v\n",
    "        return denorm\n",
    "    \n",
    "    orig_labels_denorm = denormalize_labels(original_preds, dataloaders)\n",
    "    cf_labels_denorm = denormalize_labels(cf_preds, dataloaders)\n",
    "    \n",
    "    # Visualize\n",
    "    visualize_counterfactuals(orig_display, cf_display, orig_labels_denorm, cf_labels_denorm, num_samples)\n",
    "    \n",
    "    return orig_display, cf_display, orig_labels_denorm, cf_labels_denorm\n"
   ]
  },
  {
   "cell_type": "code",
   "execution_count": 42,
   "id": "8e2eaf3a",
   "metadata": {},
   "outputs": [
    {
     "name": "stdout",
     "output_type": "stream",
     "text": [
      "Generating counterfactual visualizations...\n"
     ]
    },
    {
     "data": {
      "image/png": "[encoded data removed]",
      "text/plain": [
       "<Figure size 1500x400 with 12 Axes>"
      ]
     },
     "metadata": {},
     "output_type": "display_data"
    },
    {
     "name": "stdout",
     "output_type": "stream",
     "text": [
      "\n",
      "Original vs Counterfactual comparison:\n",
      "Top row: Original images\n",
      "Bottom row: Counterfactuals (with increased thickness intervention)\n",
      "Each image shows: Digit class, Thickness value, Intensity value\n"
     ]
    }
   ],
   "source": [
    "# Generate and visualize counterfactual examples\n",
    "print(\"Generating counterfactual visualizations...\")\n",
    "orig_imgs, cf_imgs, orig_labels, cf_labels = test_cf_visualization(fm, pgm, predictor, dataloaders, num_samples=6)\n",
    "\n",
    "print(\"\\nOriginal vs Counterfactual comparison:\")\n",
    "print(\"Top row: Original images\")\n",
    "print(\"Bottom row: Counterfactuals (with increased thickness intervention)\")\n",
    "print(\"Each image shows: Digit class, Thickness value, Intensity value\")"
   ]
  },
  {
   "cell_type": "code",
   "execution_count": 44,
   "id": "9cd7b84d",
   "metadata": {},
   "outputs": [
    {
     "name": "stdout",
     "output_type": "stream",
     "text": [
      "Generating counterfactuals with intensity interventions (brightness 70, 80, 90)...\n",
      "[-0.9639005787119609, -0.8576881985395733, -0.7514758183671858]\n"
     ]
    },
    {
     "data": {
      "image/png": "[encoded data removed]",
      "text/plain": [
       "<Figure size 1500x400 with 6 Axes>"
      ]
     },
     "metadata": {},
     "output_type": "display_data"
    },
    {
     "name": "stdout",
     "output_type": "stream",
     "text": [
      "\n",
      "Original vs Counterfactual comparison:\n",
      "Top row: Original images\n",
      "Bottom row: Counterfactuals (with intensity set to 70, 80, 90)\n",
      "Each image shows: Digit class, Thickness value, Intensity value\n",
      "\n",
      "Measured mean pixel intensity (0-255 scale):\n",
      "Sample 1: Original=11.22, Counterfactual=11.61, Target=70\n",
      "Sample 2: Original=31.64, Counterfactual=31.59, Target=80\n",
      "Sample 3: Original=12.28, Counterfactual=12.40, Target=90\n"
     ]
    }
   ],
   "source": [
    "# Visualize counterfactuals with specific intensity interventions\n",
    "import numpy as np\n",
    "import matplotlib.pyplot as plt\n",
    "\n",
    "print(\"Generating counterfactuals with intensity interventions (brightness 70, 80, 90)...\")\n",
    "orig_imgs, cf_imgs, orig_labels, cf_labels = test_cf_visualization_intensity(fm, pgm, predictor, dataloaders, intensity_targets=[70, 80, 90])\n",
    "\n",
    "# Compute measured mean intensity (mean pixel value) for each image\n",
    "def measured_intensity(imgs):\n",
    "    # imgs: torch.Tensor, shape (N, 1, H, W) or (N, H, W)\n",
    "    arr = imgs.numpy() if hasattr(imgs, 'numpy') else np.array(imgs)\n",
    "    if arr.ndim == 4:\n",
    "        arr = arr[:, 0]\n",
    "    return arr.mean(axis=(1,2))\n",
    "\n",
    "orig_measured_int = measured_intensity(orig_imgs)\n",
    "cf_measured_int = measured_intensity(cf_imgs)\n",
    "\n",
    "print(\"\\nOriginal vs Counterfactual comparison:\")\n",
    "print(\"Top row: Original images\")\n",
    "print(\"Bottom row: Counterfactuals (with intensity set to 70, 80, 90)\")\n",
    "print(\"Each image shows: Digit class, Thickness value, Intensity value\")\n",
    "\n",
    "print(\"\\nMeasured mean pixel intensity (0-255 scale):\")\n",
    "for i in range(len(orig_imgs)):\n",
    "    print(f\"Sample {i+1}: Original={orig_measured_int[i]:.2f}, Counterfactual={cf_measured_int[i]:.2f}, Target={ [70,80,90][i] }\")\n",
    "\n"
   ]
  },
  {
   "cell_type": "code",
   "execution_count": null,
   "id": "572ed849",
   "metadata": {},
   "outputs": [],
   "source": []
  }
 ],
 "metadata": {
  "kernelspec": {
   "display_name": "causal-gen",
   "language": "python",
   "name": "python3"
  },
  "language_info": {
   "codemirror_mode": {
    "name": "ipython",
    "version": 3
   },
   "file_extension": ".py",
   "mimetype": "text/x-python",
   "name": "python",
   "nbconvert_exporter": "python",
   "pygments_lexer": "ipython3",
   "version": "3.8.20"
  }
 },
 "nbformat": 4,
 "nbformat_minor": 5
}
